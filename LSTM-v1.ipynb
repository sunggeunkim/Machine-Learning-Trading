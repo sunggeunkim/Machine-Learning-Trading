{
 "cells": [
  {
   "cell_type": "code",
   "execution_count": 1,
   "metadata": {},
   "outputs": [],
   "source": [
    "import matplotlib.pyplot as plt\n",
    "import pandas as pd\n",
    "import numpy as np\n",
    "from matplotlib import style\n",
    "import util\n",
    "import get_data, sklearn\n",
    "import datetime as dt\n",
    "%matplotlib inline\n",
    "style.use('ggplot')"
   ]
  },
  {
   "cell_type": "code",
   "execution_count": 2,
   "metadata": {},
   "outputs": [],
   "source": [
    "def plot_feature_importances(model_name, importances, feature_names, num_features=None,\n",
    "                             fig_size=None, ax=None):\n",
    "    features_importances = pd.DataFrame(sorted(zip(feature_names, importances),\n",
    "                                           key = lambda tup: tup[1], reverse=True),\n",
    "                                   columns=['features','importances'])\n",
    "    data = features_importances[:num_features]\n",
    "    data.plot('features','importances', kind='barh', ax=ax,\n",
    "              color='blue', figsize=fig_size, legend = None)\n",
    "    plt.gca().invert_yaxis() # reverse the order of features\n",
    "    plt.ylabel('feature importances')\n",
    "    if num_features:\n",
    "        plt.title(model_name + '\\nTop '+str(num_features))\n",
    "    else:\n",
    "        plt.title(model_name + '\\nAll Features')"
   ]
  },
  {
   "cell_type": "code",
   "execution_count": 3,
   "metadata": {},
   "outputs": [],
   "source": [
    "from mpl_finance import volume_overlay3\n",
    "from matplotlib.dates import num2date\n",
    "from matplotlib.dates import date2num\n",
    "import matplotlib.mlab as mlab\n",
    "import matplotlib.dates as mdates"
   ]
  },
  {
   "cell_type": "code",
   "execution_count": 4,
   "metadata": {},
   "outputs": [],
   "source": [
    "import matplotlib\n",
    "font = {'family' : 'DejaVu Sans',\n",
    "        'size'   : 15}\n",
    "\n",
    "matplotlib.rc('font', **font)"
   ]
  },
  {
   "cell_type": "code",
   "execution_count": 14,
   "metadata": {},
   "outputs": [],
   "source": [
    "start_date = '1990-01-01'\n",
    "end_date = '2010-12-31'\n",
    "dates_partial = pd.date_range(start_date, end_date)\n",
    "\n",
    "# Choose which stock to look at\n",
    "stock = '^GSPC'\n",
    "\n",
    "data_partial = get_data.get_data_csv(stock, dates_partial, redownload=False)\n",
    "data_partial.dropna(inplace=True)\n",
    "data_partial = util.remove_data_with_same_open_close(data_partial)"
   ]
  },
  {
   "cell_type": "code",
   "execution_count": 15,
   "metadata": {},
   "outputs": [],
   "source": [
    "datanew_partial = util.calc_features_reg(data_partial, look_back=10, fee=0)\n",
    "datanew_partial.dropna(inplace=True)\n",
    "target_partial = datanew_partial['Close']\n",
    "features_partial = datanew_partial.drop(['Open', 'High', 'Low', 'Close', 'Volume', 'Adj Close'], axis=1)"
   ]
  },
  {
   "cell_type": "code",
   "execution_count": 16,
   "metadata": {},
   "outputs": [
    {
     "data": {
      "text/html": [
       "<div>\n",
       "<style scoped>\n",
       "    .dataframe tbody tr th:only-of-type {\n",
       "        vertical-align: middle;\n",
       "    }\n",
       "\n",
       "    .dataframe tbody tr th {\n",
       "        vertical-align: top;\n",
       "    }\n",
       "\n",
       "    .dataframe thead th {\n",
       "        text-align: right;\n",
       "    }\n",
       "</style>\n",
       "<table border=\"1\" class=\"dataframe\">\n",
       "  <thead>\n",
       "    <tr style=\"text-align: right;\">\n",
       "      <th></th>\n",
       "      <th>Open</th>\n",
       "      <th>High</th>\n",
       "      <th>Low</th>\n",
       "      <th>Close</th>\n",
       "      <th>Volume</th>\n",
       "      <th>Adj Close</th>\n",
       "      <th>Open10d</th>\n",
       "      <th>Close10d</th>\n",
       "      <th>Open9d</th>\n",
       "      <th>Close9d</th>\n",
       "      <th>...</th>\n",
       "      <th>Close5d</th>\n",
       "      <th>Open4d</th>\n",
       "      <th>Close4d</th>\n",
       "      <th>Open3d</th>\n",
       "      <th>Close3d</th>\n",
       "      <th>Open2d</th>\n",
       "      <th>Close2d</th>\n",
       "      <th>Open1d</th>\n",
       "      <th>Close1d</th>\n",
       "      <th>Open0d</th>\n",
       "    </tr>\n",
       "  </thead>\n",
       "  <tbody>\n",
       "    <tr>\n",
       "      <th>1990-01-16</th>\n",
       "      <td>337.000000</td>\n",
       "      <td>340.750000</td>\n",
       "      <td>333.369995</td>\n",
       "      <td>340.750000</td>\n",
       "      <td>186070000.0</td>\n",
       "      <td>340.750000</td>\n",
       "      <td>353.399994</td>\n",
       "      <td>359.690002</td>\n",
       "      <td>359.690002</td>\n",
       "      <td>358.760010</td>\n",
       "      <td>...</td>\n",
       "      <td>349.619995</td>\n",
       "      <td>349.619995</td>\n",
       "      <td>347.309998</td>\n",
       "      <td>347.309998</td>\n",
       "      <td>348.529999</td>\n",
       "      <td>348.529999</td>\n",
       "      <td>339.929993</td>\n",
       "      <td>339.929993</td>\n",
       "      <td>337.000000</td>\n",
       "      <td>337.000000</td>\n",
       "    </tr>\n",
       "    <tr>\n",
       "      <th>1990-01-17</th>\n",
       "      <td>340.769989</td>\n",
       "      <td>342.010010</td>\n",
       "      <td>336.260010</td>\n",
       "      <td>337.399994</td>\n",
       "      <td>170470000.0</td>\n",
       "      <td>337.399994</td>\n",
       "      <td>359.690002</td>\n",
       "      <td>358.760010</td>\n",
       "      <td>358.760010</td>\n",
       "      <td>355.670013</td>\n",
       "      <td>...</td>\n",
       "      <td>347.309998</td>\n",
       "      <td>347.309998</td>\n",
       "      <td>348.529999</td>\n",
       "      <td>348.529999</td>\n",
       "      <td>339.929993</td>\n",
       "      <td>339.929993</td>\n",
       "      <td>337.000000</td>\n",
       "      <td>337.000000</td>\n",
       "      <td>340.750000</td>\n",
       "      <td>340.769989</td>\n",
       "    </tr>\n",
       "    <tr>\n",
       "      <th>1990-01-18</th>\n",
       "      <td>337.399994</td>\n",
       "      <td>338.380005</td>\n",
       "      <td>333.980011</td>\n",
       "      <td>338.190002</td>\n",
       "      <td>178590000.0</td>\n",
       "      <td>338.190002</td>\n",
       "      <td>358.760010</td>\n",
       "      <td>355.670013</td>\n",
       "      <td>355.670013</td>\n",
       "      <td>352.200012</td>\n",
       "      <td>...</td>\n",
       "      <td>348.529999</td>\n",
       "      <td>348.529999</td>\n",
       "      <td>339.929993</td>\n",
       "      <td>339.929993</td>\n",
       "      <td>337.000000</td>\n",
       "      <td>337.000000</td>\n",
       "      <td>340.750000</td>\n",
       "      <td>340.769989</td>\n",
       "      <td>337.399994</td>\n",
       "      <td>337.399994</td>\n",
       "    </tr>\n",
       "    <tr>\n",
       "      <th>1990-01-19</th>\n",
       "      <td>338.190002</td>\n",
       "      <td>340.480011</td>\n",
       "      <td>338.190002</td>\n",
       "      <td>339.149994</td>\n",
       "      <td>185590000.0</td>\n",
       "      <td>339.149994</td>\n",
       "      <td>355.670013</td>\n",
       "      <td>352.200012</td>\n",
       "      <td>352.200012</td>\n",
       "      <td>353.790009</td>\n",
       "      <td>...</td>\n",
       "      <td>339.929993</td>\n",
       "      <td>339.929993</td>\n",
       "      <td>337.000000</td>\n",
       "      <td>337.000000</td>\n",
       "      <td>340.750000</td>\n",
       "      <td>340.769989</td>\n",
       "      <td>337.399994</td>\n",
       "      <td>337.399994</td>\n",
       "      <td>338.190002</td>\n",
       "      <td>338.190002</td>\n",
       "    </tr>\n",
       "    <tr>\n",
       "      <th>1990-01-22</th>\n",
       "      <td>339.140015</td>\n",
       "      <td>339.959991</td>\n",
       "      <td>330.279999</td>\n",
       "      <td>330.380005</td>\n",
       "      <td>148380000.0</td>\n",
       "      <td>330.380005</td>\n",
       "      <td>352.200012</td>\n",
       "      <td>353.790009</td>\n",
       "      <td>353.829987</td>\n",
       "      <td>349.619995</td>\n",
       "      <td>...</td>\n",
       "      <td>337.000000</td>\n",
       "      <td>337.000000</td>\n",
       "      <td>340.750000</td>\n",
       "      <td>340.769989</td>\n",
       "      <td>337.399994</td>\n",
       "      <td>337.399994</td>\n",
       "      <td>338.190002</td>\n",
       "      <td>338.190002</td>\n",
       "      <td>339.149994</td>\n",
       "      <td>339.140015</td>\n",
       "    </tr>\n",
       "  </tbody>\n",
       "</table>\n",
       "<p>5 rows × 27 columns</p>\n",
       "</div>"
      ],
      "text/plain": [
       "                  Open        High         Low       Close       Volume  \\\n",
       "1990-01-16  337.000000  340.750000  333.369995  340.750000  186070000.0   \n",
       "1990-01-17  340.769989  342.010010  336.260010  337.399994  170470000.0   \n",
       "1990-01-18  337.399994  338.380005  333.980011  338.190002  178590000.0   \n",
       "1990-01-19  338.190002  340.480011  338.190002  339.149994  185590000.0   \n",
       "1990-01-22  339.140015  339.959991  330.279999  330.380005  148380000.0   \n",
       "\n",
       "             Adj Close     Open10d    Close10d      Open9d     Close9d  \\\n",
       "1990-01-16  340.750000  353.399994  359.690002  359.690002  358.760010   \n",
       "1990-01-17  337.399994  359.690002  358.760010  358.760010  355.670013   \n",
       "1990-01-18  338.190002  358.760010  355.670013  355.670013  352.200012   \n",
       "1990-01-19  339.149994  355.670013  352.200012  352.200012  353.790009   \n",
       "1990-01-22  330.380005  352.200012  353.790009  353.829987  349.619995   \n",
       "\n",
       "               ...         Close5d      Open4d     Close4d      Open3d  \\\n",
       "1990-01-16     ...      349.619995  349.619995  347.309998  347.309998   \n",
       "1990-01-17     ...      347.309998  347.309998  348.529999  348.529999   \n",
       "1990-01-18     ...      348.529999  348.529999  339.929993  339.929993   \n",
       "1990-01-19     ...      339.929993  339.929993  337.000000  337.000000   \n",
       "1990-01-22     ...      337.000000  337.000000  340.750000  340.769989   \n",
       "\n",
       "               Close3d      Open2d     Close2d      Open1d     Close1d  \\\n",
       "1990-01-16  348.529999  348.529999  339.929993  339.929993  337.000000   \n",
       "1990-01-17  339.929993  339.929993  337.000000  337.000000  340.750000   \n",
       "1990-01-18  337.000000  337.000000  340.750000  340.769989  337.399994   \n",
       "1990-01-19  340.750000  340.769989  337.399994  337.399994  338.190002   \n",
       "1990-01-22  337.399994  337.399994  338.190002  338.190002  339.149994   \n",
       "\n",
       "                Open0d  \n",
       "1990-01-16  337.000000  \n",
       "1990-01-17  340.769989  \n",
       "1990-01-18  337.399994  \n",
       "1990-01-19  338.190002  \n",
       "1990-01-22  339.140015  \n",
       "\n",
       "[5 rows x 27 columns]"
      ]
     },
     "execution_count": 16,
     "metadata": {},
     "output_type": "execute_result"
    }
   ],
   "source": [
    "datanew_partial.head()"
   ]
  },
  {
   "cell_type": "code",
   "execution_count": 19,
   "metadata": {},
   "outputs": [
    {
     "name": "stderr",
     "output_type": "stream",
     "text": [
      "/data/anaconda/envs/py35/lib/python3.5/site-packages/ipykernel/__main__.py:3: DataConversionWarning: Data with input dtype float32 were all converted to float64 by the scale function.\n",
      "  app.launch_new_instance()\n"
     ]
    },
    {
     "name": "stdout",
     "output_type": "stream",
     "text": [
      "Train on 3378 samples, validate on 845 samples\n",
      "Epoch 1/10\n",
      "3378/3378 [==============================] - 3s 798us/step - loss: 754277.7977 - acc: 0.0000e+00 - val_loss: 1386213.8521 - val_acc: 0.0000e+00\n",
      "Epoch 2/10\n",
      "3378/3378 [==============================] - 1s 248us/step - loss: 753134.4721 - acc: 0.0000e+00 - val_loss: 1382568.6916 - val_acc: 0.0000e+00\n",
      "Epoch 3/10\n",
      "3378/3378 [==============================] - 1s 246us/step - loss: 748271.1343 - acc: 0.0000e+00 - val_loss: 1374664.3217 - val_acc: 0.0000e+00\n",
      "Epoch 4/10\n",
      "3378/3378 [==============================] - 1s 250us/step - loss: 744522.3011 - acc: 0.0000e+00 - val_loss: 1370511.2522 - val_acc: 0.0000e+00\n",
      "Epoch 5/10\n",
      "3378/3378 [==============================] - 1s 243us/step - loss: 742865.3193 - acc: 0.0000e+00 - val_loss: 1368375.6805 - val_acc: 0.0000e+00\n",
      "Epoch 6/10\n",
      "3378/3378 [==============================] - 1s 244us/step - loss: 741635.7872 - acc: 0.0000e+00 - val_loss: 1366646.2034 - val_acc: 0.0000e+00\n",
      "Epoch 7/10\n",
      "3378/3378 [==============================] - 1s 250us/step - loss: 740527.4694 - acc: 0.0000e+00 - val_loss: 1365027.2803 - val_acc: 0.0000e+00\n",
      "Epoch 8/10\n",
      "3378/3378 [==============================] - 1s 241us/step - loss: 739475.7964 - acc: 0.0000e+00 - val_loss: 1363477.2988 - val_acc: 0.0000e+00\n",
      "Epoch 9/10\n",
      "3378/3378 [==============================] - 1s 243us/step - loss: 738461.6729 - acc: 0.0000e+00 - val_loss: 1361974.4090 - val_acc: 0.0000e+00\n",
      "Epoch 10/10\n",
      "3378/3378 [==============================] - 1s 242us/step - loss: 737474.0495 - acc: 0.0000e+00 - val_loss: 1360505.6768 - val_acc: 0.0000e+00\n"
     ]
    }
   ],
   "source": [
    "#Train-test data splits for roll-forward cross validation\n",
    "from sklearn import preprocessing\n",
    "features_scaled = pd.DataFrame(preprocessing.scale(features_partial))\n",
    "from sklearn.model_selection import train_test_split\n",
    "from LSTM_layers import LSTM_keras\n",
    "X_train, X_test, y_train, y_test = train_test_split(features_scaled.values, target_partial, shuffle = False, test_size=0.2)\n",
    "X_train = np.reshape(X_train, (X_train.shape[0], X_train.shape[1], 1))\n",
    "lstm = LSTM_keras(input_shape = (X_train.shape[1], 1), nodes = [20, 20], l2 = 0.002, activation = 'linear', loss = 'mean_squared_error')\n",
    "history = lstm.train(X_train, y_train, val_portion = 0.2, n_epochs = 10, n_batch = 120)"
   ]
  },
  {
   "cell_type": "code",
   "execution_count": 8,
   "metadata": {},
   "outputs": [],
   "source": [
    "model = lstm.clf\n",
    "filename = 'saved_model.sav'\n",
    "import pickle\n",
    "pickle.dump(model, open(filename,'wb'))"
   ]
  },
  {
   "cell_type": "code",
   "execution_count": 9,
   "metadata": {},
   "outputs": [],
   "source": [
    "X_test = np.reshape(X_test, (X_test.shape[0], X_test.shape[1], 1))"
   ]
  },
  {
   "cell_type": "code",
   "execution_count": 10,
   "metadata": {},
   "outputs": [],
   "source": [
    "model_trained = pickle.load(open(filename,'rb'))\n",
    "lstm.clf = model_trained\n",
    "pred = lstm.predict(X_test)"
   ]
  },
  {
   "cell_type": "code",
   "execution_count": 11,
   "metadata": {},
   "outputs": [
    {
     "data": {
      "image/png": "[encoded data removed]",
      "text/plain": [
       "<Figure size 432x288 with 1 Axes>"
      ]
     },
     "metadata": {},
     "output_type": "display_data"
    },
    {
     "data": {
      "text/plain": [
       "0.5102449307598673"
      ]
     },
     "execution_count": 11,
     "metadata": {},
     "output_type": "execute_result"
    }
   ],
   "source": [
    "from sklearn import metrics\n",
    "fpr, tpr, thresholds = metrics.roc_curve(y_test, pred, pos_label=1)\n",
    "plt.plot(fpr, tpr)\n",
    "plt.show()\n",
    "metrics.auc(fpr, tpr)"
   ]
  },
  {
   "cell_type": "code",
   "execution_count": 12,
   "metadata": {},
   "outputs": [],
   "source": [
    "# credit: Hye Joo Han\n",
    "def plot_history(history):\n",
    "    plt.figure()\n",
    "    plt.xlabel('Epoch')\n",
    "    plt.ylabel('Root_mean_squared_error ($)')\n",
    "    plt.plot(history.epoch, np.array(history.history['loss']),\n",
    "           label='Train Loss')\n",
    "    plt.plot(history.epoch, np.array(history.history['val_loss']),\n",
    "           label='Validation Loss')\n",
    "    plt.legend()"
   ]
  },
  {
   "cell_type": "code",
   "execution_count": 13,
   "metadata": {},
   "outputs": [
    {
     "data": {
      "image/png": "[encoded data removed]",
      "text/plain": [
       "<Figure size 432x288 with 1 Axes>"
      ]
     },
     "metadata": {},
     "output_type": "display_data"
    }
   ],
   "source": [
    "plot_history(history)"
   ]
  },
  {
   "cell_type": "code",
   "execution_count": 14,
   "metadata": {},
   "outputs": [],
   "source": [
    "test_data = data_partial.iloc[int(X_train.shape[0]*0.8) + 1:int(X_train.shape[0])+1]"
   ]
  },
  {
   "cell_type": "code",
   "execution_count": 15,
   "metadata": {},
   "outputs": [
    {
     "data": {
      "image/png": "[encoded data removed]",
      "text/plain": [
       "<Figure size 432x432 with 1 Axes>"
      ]
     },
     "metadata": {},
     "output_type": "display_data"
    },
    {
     "data": {
      "text/plain": [
       "2.3303732587449457"
      ]
     },
     "execution_count": 15,
     "metadata": {},
     "output_type": "execute_result"
    }
   ],
   "source": [
    "util.gain_plot_from_test_data(test_data, pred, fee=10, model_name = \"LSTM\")"
   ]
  },
  {
   "cell_type": "code",
   "execution_count": null,
   "metadata": {},
   "outputs": [],
   "source": []
  }
 ],
 "metadata": {
  "kernelspec": {
   "display_name": "Python [conda env:py35]",
   "language": "python",
   "name": "conda-env-py35-py"
  },
  "language_info": {
   "codemirror_mode": {
    "name": "ipython",
    "version": 3
   },
   "file_extension": ".py",
   "mimetype": "text/x-python",
   "name": "python",
   "nbconvert_exporter": "python",
   "pygments_lexer": "ipython3",
   "version": "3.5.5"
  }
 },
 "nbformat": 4,
 "nbformat_minor": 2
}

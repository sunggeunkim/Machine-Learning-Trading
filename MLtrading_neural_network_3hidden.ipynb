{
 "cells": [
  {
   "cell_type": "markdown",
   "metadata": {},
   "source": [
    "# Training neural network with 3 hidden layer\n",
    "### Import packages and get the data"
   ]
  },
  {
   "cell_type": "code",
   "execution_count": 1,
   "metadata": {
    "collapsed": false
   },
   "outputs": [
    {
     "data": {
      "text/html": [
       "<div>\n",
       "<table border=\"1\" class=\"dataframe\">\n",
       "  <thead>\n",
       "    <tr style=\"text-align: right;\">\n",
       "      <th></th>\n",
       "      <th>Open</th>\n",
       "      <th>High</th>\n",
       "      <th>Low</th>\n",
       "      <th>Close</th>\n",
       "      <th>Volume</th>\n",
       "      <th>Adj Close</th>\n",
       "    </tr>\n",
       "  </thead>\n",
       "  <tbody>\n",
       "    <tr>\n",
       "      <th>1962-01-02</th>\n",
       "      <td>71.550003</td>\n",
       "      <td>71.959999</td>\n",
       "      <td>70.709999</td>\n",
       "      <td>70.959999</td>\n",
       "      <td>3120000.0</td>\n",
       "      <td>70.959999</td>\n",
       "    </tr>\n",
       "    <tr>\n",
       "      <th>1962-01-03</th>\n",
       "      <td>70.959999</td>\n",
       "      <td>71.480003</td>\n",
       "      <td>70.379997</td>\n",
       "      <td>71.129997</td>\n",
       "      <td>3590000.0</td>\n",
       "      <td>71.129997</td>\n",
       "    </tr>\n",
       "    <tr>\n",
       "      <th>1962-01-04</th>\n",
       "      <td>71.129997</td>\n",
       "      <td>71.620003</td>\n",
       "      <td>70.449997</td>\n",
       "      <td>70.639999</td>\n",
       "      <td>4450000.0</td>\n",
       "      <td>70.639999</td>\n",
       "    </tr>\n",
       "    <tr>\n",
       "      <th>1962-01-05</th>\n",
       "      <td>70.639999</td>\n",
       "      <td>70.839996</td>\n",
       "      <td>69.349998</td>\n",
       "      <td>69.660004</td>\n",
       "      <td>4630000.0</td>\n",
       "      <td>69.660004</td>\n",
       "    </tr>\n",
       "    <tr>\n",
       "      <th>1962-01-08</th>\n",
       "      <td>69.660004</td>\n",
       "      <td>69.839996</td>\n",
       "      <td>68.169998</td>\n",
       "      <td>69.120003</td>\n",
       "      <td>4620000.0</td>\n",
       "      <td>69.120003</td>\n",
       "    </tr>\n",
       "  </tbody>\n",
       "</table>\n",
       "</div>"
      ],
      "text/plain": [
       "                 Open       High        Low      Close     Volume  Adj Close\n",
       "1962-01-02  71.550003  71.959999  70.709999  70.959999  3120000.0  70.959999\n",
       "1962-01-03  70.959999  71.480003  70.379997  71.129997  3590000.0  71.129997\n",
       "1962-01-04  71.129997  71.620003  70.449997  70.639999  4450000.0  70.639999\n",
       "1962-01-05  70.639999  70.839996  69.349998  69.660004  4630000.0  69.660004\n",
       "1962-01-08  69.660004  69.839996  68.169998  69.120003  4620000.0  69.120003"
      ]
     },
     "execution_count": 1,
     "metadata": {},
     "output_type": "execute_result"
    }
   ],
   "source": [
    "import matplotlib.pyplot as plt\n",
    "import pandas as pd\n",
    "import numpy as np\n",
    "from matplotlib import style\n",
    "import util\n",
    "import get_data, sklearn\n",
    "import datetime as dt\n",
    "import tensorflow as tf\n",
    "%matplotlib inline\n",
    "\n",
    "style.use('ggplot')\n",
    "\n",
    "# Choose start/end date\n",
    "start_date = '1950-1-3'\n",
    "end_date = '2017-4-21'\n",
    "dates = pd.date_range(start_date, end_date)\n",
    "\n",
    "# Choose which stock to look at\n",
    "stock = '^GSPC'\n",
    "\n",
    "data = get_data.get_data_csv(stock, dates, redownload=True)\n",
    "data.dropna(inplace=True)\n",
    "data = util.remove_data_with_same_open_close(data)\n",
    "data.head()"
   ]
  },
  {
   "cell_type": "markdown",
   "metadata": {},
   "source": [
    "### Data Preprocessing"
   ]
  },
  {
   "cell_type": "code",
   "execution_count": 2,
   "metadata": {
    "collapsed": true
   },
   "outputs": [],
   "source": [
    "#calculate features\n",
    "datanew = util.calc_features_new(data, look_back=120, fee=0)\n",
    "datanew.dropna(inplace=True)\n",
    "target = datanew['Change']\n",
    "features = datanew.drop(['Open', 'High', 'Low', 'Close', 'Volume', 'Adj Close', 'Change'], axis=1)\n",
    "from sklearn import preprocessing\n",
    "features_scaled = pd.DataFrame(preprocessing.scale(features))"
   ]
  },
  {
   "cell_type": "code",
   "execution_count": 3,
   "metadata": {
    "collapsed": true
   },
   "outputs": [],
   "source": [
    "# time series split\n",
    "from sklearn.model_selection import TimeSeriesSplit\n",
    "n_splits = 15\n",
    "tscv = TimeSeriesSplit(n_splits=n_splits)"
   ]
  },
  {
   "cell_type": "code",
   "execution_count": 4,
   "metadata": {
    "collapsed": true
   },
   "outputs": [],
   "source": [
    "# calculate target with one hot encoding\n",
    "target = pd.DataFrame(target)\n",
    "from sklearn.preprocessing import OneHotEncoder\n",
    "one_hot = OneHotEncoder()\n",
    "one_hot.fit(target)\n",
    "target_scaled = one_hot.transform(target).toarray()"
   ]
  },
  {
   "cell_type": "markdown",
   "metadata": {},
   "source": [
    "### Parameter search for best accuracy for neural networks with 3 hidden layers"
   ]
  },
  {
   "cell_type": "code",
   "execution_count": 5,
   "metadata": {
    "collapsed": false
   },
   "outputs": [
    {
     "name": "stdout",
     "output_type": "stream",
     "text": [
      "learning_rate = 0.001\n",
      "#1st hidden_layer_size = 10, #2nd hidden_layer_size = 5, #3rd hidden_layer_size = 2, keep_prob = 0.5\n",
      "epoch = 2900, cost = 0.668742, test_cost = 0.659432\n",
      "test accuracy =  0.552648\n",
      "learning_rate = 0.0001\n",
      "#1st hidden_layer_size = 10, #2nd hidden_layer_size = 5, #3rd hidden_layer_size = 2, keep_prob = 0.5\n",
      "epoch = 2900, cost = 0.674277, test_cost = 0.670660\n",
      "test accuracy =  0.551869\n",
      "learning_rate = 0.001\n",
      "#1st hidden_layer_size = 20, #2nd hidden_layer_size = 10, #3rd hidden_layer_size = 5, keep_prob = 0.5\n",
      "epoch = 2900, cost = 0.655261, test_cost = 0.657442\n",
      "test accuracy =  0.552259\n",
      "learning_rate = 0.0001\n",
      "#1st hidden_layer_size = 20, #2nd hidden_layer_size = 10, #3rd hidden_layer_size = 5, keep_prob = 0.5\n",
      "epoch = 2900, cost = 0.660772, test_cost = 0.658015\n",
      "test accuracy =  0.55553\n",
      "learning_rate = 0.001\n",
      "#1st hidden_layer_size = 40, #2nd hidden_layer_size = 20, #3rd hidden_layer_size = 10, keep_prob = 0.5\n",
      "epoch = 2900, cost = 0.633345, test_cost = 0.678854\n",
      "test accuracy =  0.548131\n",
      "learning_rate = 0.0001\n",
      "#1st hidden_layer_size = 40, #2nd hidden_layer_size = 20, #3rd hidden_layer_size = 10, keep_prob = 0.5\n",
      "epoch = 2900, cost = 0.636797, test_cost = 0.675706\n",
      "test accuracy =  0.556386\n"
     ]
    }
   ],
   "source": [
    "from NeuralNetwork_Cross_Entropy_mini_batch import NeuralNetwork\n",
    "best_prediction = 0\n",
    "accuracy_dict = {}\n",
    "\n",
    "# h1n: number of neurons in the first hidden layer\n",
    "# h2n: number of neurons in the second hidden layer\n",
    "# h3n: number of neurons in the third hidden layer\n",
    "# keep_prob: the keep probability for drop-out\n",
    "# learning_rate: the learning rate for the gradient descent algorith\n",
    "\n",
    "for h1n in [10, 20, 40]:\n",
    "    for keep_prob in [0.5]:\n",
    "        for learning_rate in [0.001, 0.0001]:\n",
    "            h2n = int(h1n/2)\n",
    "            h3n = int(h2n/2)\n",
    "            print(\"learning_rate = \" + str(learning_rate))\n",
    "            print(\"#1st hidden_layer_size = \" + str(h1n)\\\n",
    "                + \", #2nd hidden_layer_size = \" + str(h2n)\\\n",
    "                + \", #3rd hidden_layer_size = \" + str(h3n)\\\n",
    "                + \", keep_prob = \" + str(keep_prob))\n",
    "            index = 'learning_rate_'+str(learning_rate)+'_h1n_'+str(h1n)+'_h2n_'+str(h2n)\\\n",
    "                                    +'_h3n_'+str(h3n)+'_kp_'+str(keep_prob)\n",
    "            i = 1\n",
    "            accuracy_list = []\n",
    "            for train_index, test_index in tscv.split(features_scaled):\n",
    "                X_train, X_test = features_scaled.values[train_index], features_scaled.values[test_index]\n",
    "                y_train, y_test = target_scaled[train_index], target_scaled[test_index]\n",
    "                sess = tf.Session()\n",
    "                \n",
    "                # train and test neural network with 3 hidden layers\n",
    "                nnmodel = NeuralNetwork(sess, X_train.shape[0], X_train.shape[1], n_nodes=[h1n,h2n,h3n],\\\n",
    "                                        learning_rate=learning_rate, training_epochs=3000)\n",
    "                y_pred, cost_list, test_cost_list = nnmodel.train_and_test(X_train, y_train, X_test,\\\n",
    "                                                                           y_test, keep_prob)\n",
    "                correct_prediction = np.equal(np.argmax(y_test,1), np.argmax(y_pred,1))\n",
    "                accuracy_list.append(np.mean(correct_prediction.astype(np.float32)))\n",
    "                \n",
    "                # get the best model with largest average accuracy at the last split.\n",
    "                if i == n_splits:\n",
    "                    accuracy_dict[index] = np.mean(accuracy_list)\n",
    "                    print('\\ntest accuracy = ', accuracy_dict[index])\n",
    "                    if accuracy_dict[index] > best_prediction:\n",
    "                        best_prediction = accuracy_dict[index]\n",
    "                        best_nn_estimator = nnmodel\n",
    "                        best_pred = y_pred\n",
    "                        save_test = y_test\n",
    "                        save_test_index = test_index\n",
    "                        saver = tf.train.Saver()\n",
    "                        saver.save(sess, 'best_estimator.chk')\n",
    "                sess.close()\n",
    "                i += 1       \n"
   ]
  },
  {
   "cell_type": "code",
   "execution_count": 8,
   "metadata": {
    "collapsed": false
   },
   "outputs": [
    {
     "data": {
      "text/plain": [
       "'learning_rate_0.0001_h1n_40_h2n_20_h3n_10_kp_0.5'"
      ]
     },
     "execution_count": 8,
     "metadata": {},
     "output_type": "execute_result"
    }
   ],
   "source": [
    "max(accuracy_dict, key = accuracy_dict.get)"
   ]
  },
  {
   "cell_type": "code",
   "execution_count": 9,
   "metadata": {
    "collapsed": false,
    "scrolled": true
   },
   "outputs": [
    {
     "data": {
      "text/plain": [
       "0.55638629"
      ]
     },
     "execution_count": 9,
     "metadata": {},
     "output_type": "execute_result"
    }
   ],
   "source": [
    "best_prediction"
   ]
  },
  {
   "cell_type": "markdown",
   "metadata": {},
   "source": [
    "### Plot the ROI for the best model"
   ]
  },
  {
   "cell_type": "code",
   "execution_count": 10,
   "metadata": {
    "collapsed": false
   },
   "outputs": [
    {
     "data": {
      "text/plain": [
       "[<matplotlib.lines.Line2D at 0x7fc1630da208>]"
      ]
     },
     "execution_count": 10,
     "metadata": {},
     "output_type": "execute_result"
    },
    {
     "data": {
      "image/png": "[encoded data removed]",
      "text/plain": [
       "<matplotlib.figure.Figure at 0x7fc164041f60>"
      ]
     },
     "metadata": {},
     "output_type": "display_data"
    }
   ],
   "source": [
    "data_test = datanew.ix[save_test_index]\n",
    "asset = np.zeros(len(data_test))\n",
    "fee=5\n",
    "nstock=100  # number of stocks to trade\n",
    "price = data_test.ix[0]['Open'] * nstock\n",
    "asset[0] = price\n",
    "for i in range(len(data_test)):\n",
    "    if best_pred[i][0] < best_pred[i][1]:\n",
    "        #buy n stocks\n",
    "        price += -data_test.ix[i]['Open'] * nstock + data_test.ix[i]['Close'] * nstock - fee\n",
    "    else:\n",
    "        #sell n stocks\n",
    "        price += data_test.ix[i]['Open'] * nstock - data_test.ix[i]['Close'] * nstock - fee\n",
    "    asset[i] = price\n",
    "start_asset = data_test.ix[0]['Open'] * nstock  # start asset: the total price of stocks bought in the beginning\n",
    "ref = start_asset + data_test['Close'] * nstock - data_test.ix[0]['Open']*nstock  # buy-hold reference\n",
    "plt.plot(ref / start_asset)\n",
    "plt.plot(pd.DataFrame(asset, index=data_test.index) / start_asset)"
   ]
  },
  {
   "cell_type": "code",
   "execution_count": 12,
   "metadata": {
    "collapsed": false
   },
   "outputs": [
    {
     "data": {
      "text/plain": [
       "3.2045700696504906"
      ]
     },
     "execution_count": 12,
     "metadata": {},
     "output_type": "execute_result"
    }
   ],
   "source": [
    "# return on investment (ROI)\n",
    "asset[-1]/start_asset"
   ]
  }
 ],
 "metadata": {
  "kernelspec": {
   "display_name": "Python 3",
   "language": "python",
   "name": "python3"
  },
  "language_info": {
   "codemirror_mode": {
    "name": "ipython",
    "version": 3
   },
   "file_extension": ".py",
   "mimetype": "text/x-python",
   "name": "python",
   "nbconvert_exporter": "python",
   "pygments_lexer": "ipython3",
   "version": "3.5.3"
  }
 },
 "nbformat": 4,
 "nbformat_minor": 2
}

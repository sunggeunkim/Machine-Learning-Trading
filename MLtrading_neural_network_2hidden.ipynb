{
 "cells": [
  {
   "cell_type": "markdown",
   "metadata": {},
   "source": [
    "# Training neural network with 2 hidden layer\n",
    "### Import packages and get the data"
   ]
  },
  {
   "cell_type": "code",
   "execution_count": 1,
   "metadata": {
    "collapsed": false
   },
   "outputs": [
    {
     "data": {
      "text/html": [
       "<div>\n",
       "<table border=\"1\" class=\"dataframe\">\n",
       "  <thead>\n",
       "    <tr style=\"text-align: right;\">\n",
       "      <th></th>\n",
       "      <th>Open</th>\n",
       "      <th>High</th>\n",
       "      <th>Low</th>\n",
       "      <th>Close</th>\n",
       "      <th>Volume</th>\n",
       "      <th>Adj Close</th>\n",
       "    </tr>\n",
       "  </thead>\n",
       "  <tbody>\n",
       "    <tr>\n",
       "      <th>1962-01-02</th>\n",
       "      <td>71.550003</td>\n",
       "      <td>71.959999</td>\n",
       "      <td>70.709999</td>\n",
       "      <td>70.959999</td>\n",
       "      <td>3120000.0</td>\n",
       "      <td>70.959999</td>\n",
       "    </tr>\n",
       "    <tr>\n",
       "      <th>1962-01-03</th>\n",
       "      <td>70.959999</td>\n",
       "      <td>71.480003</td>\n",
       "      <td>70.379997</td>\n",
       "      <td>71.129997</td>\n",
       "      <td>3590000.0</td>\n",
       "      <td>71.129997</td>\n",
       "    </tr>\n",
       "    <tr>\n",
       "      <th>1962-01-04</th>\n",
       "      <td>71.129997</td>\n",
       "      <td>71.620003</td>\n",
       "      <td>70.449997</td>\n",
       "      <td>70.639999</td>\n",
       "      <td>4450000.0</td>\n",
       "      <td>70.639999</td>\n",
       "    </tr>\n",
       "    <tr>\n",
       "      <th>1962-01-05</th>\n",
       "      <td>70.639999</td>\n",
       "      <td>70.839996</td>\n",
       "      <td>69.349998</td>\n",
       "      <td>69.660004</td>\n",
       "      <td>4630000.0</td>\n",
       "      <td>69.660004</td>\n",
       "    </tr>\n",
       "    <tr>\n",
       "      <th>1962-01-08</th>\n",
       "      <td>69.660004</td>\n",
       "      <td>69.839996</td>\n",
       "      <td>68.169998</td>\n",
       "      <td>69.120003</td>\n",
       "      <td>4620000.0</td>\n",
       "      <td>69.120003</td>\n",
       "    </tr>\n",
       "  </tbody>\n",
       "</table>\n",
       "</div>"
      ],
      "text/plain": [
       "                 Open       High        Low      Close     Volume  Adj Close\n",
       "1962-01-02  71.550003  71.959999  70.709999  70.959999  3120000.0  70.959999\n",
       "1962-01-03  70.959999  71.480003  70.379997  71.129997  3590000.0  71.129997\n",
       "1962-01-04  71.129997  71.620003  70.449997  70.639999  4450000.0  70.639999\n",
       "1962-01-05  70.639999  70.839996  69.349998  69.660004  4630000.0  69.660004\n",
       "1962-01-08  69.660004  69.839996  68.169998  69.120003  4620000.0  69.120003"
      ]
     },
     "execution_count": 1,
     "metadata": {},
     "output_type": "execute_result"
    }
   ],
   "source": [
    "import matplotlib.pyplot as plt\n",
    "import pandas as pd\n",
    "import numpy as np\n",
    "from matplotlib import style\n",
    "import util\n",
    "import get_data, sklearn\n",
    "import datetime as dt\n",
    "%matplotlib inline\n",
    "\n",
    "style.use('ggplot')\n",
    "\n",
    "# Choose start/end date\n",
    "start_date = '1950-1-3'\n",
    "end_date = '2017-4-21'\n",
    "dates = pd.date_range(start_date, end_date)\n",
    "\n",
    "# Choose which stock to look at\n",
    "stock = '^GSPC'\n",
    "\n",
    "data = get_data.get_data_csv(stock, dates, redownload=False)\n",
    "data.dropna(inplace=True)\n",
    "data = util.remove_data_with_same_open_close(data)\n",
    "data.head()"
   ]
  },
  {
   "cell_type": "markdown",
   "metadata": {},
   "source": [
    "### Data Preprocessing"
   ]
  },
  {
   "cell_type": "code",
   "execution_count": 2,
   "metadata": {
    "collapsed": true
   },
   "outputs": [],
   "source": [
    "# calculate features\n",
    "datanew = util.calc_features_new(data, look_back=120, fee=0)\n",
    "datanew.dropna(inplace=True)\n",
    "target = datanew['Change']\n",
    "features = datanew.drop(['Open', 'High', 'Low', 'Close', 'Volume', 'Adj Close', 'Change'], axis=1)\n",
    "from sklearn import preprocessing\n",
    "features_scaled = pd.DataFrame(preprocessing.scale(features))"
   ]
  },
  {
   "cell_type": "code",
   "execution_count": 3,
   "metadata": {
    "collapsed": true
   },
   "outputs": [],
   "source": [
    "#Train-test data splits for roll-forward cross validation\n",
    "from sklearn.model_selection import TimeSeriesSplit\n",
    "n_splits = 15\n",
    "tscv = TimeSeriesSplit(n_splits=n_splits)"
   ]
  },
  {
   "cell_type": "code",
   "execution_count": 4,
   "metadata": {
    "collapsed": true
   },
   "outputs": [],
   "source": [
    "#prepare the target data with one-hot encoding\n",
    "target = pd.DataFrame(target)\n",
    "from sklearn.preprocessing import OneHotEncoder\n",
    "one_hot = OneHotEncoder()\n",
    "one_hot.fit(target)\n",
    "target_scaled = one_hot.transform(target).toarray()"
   ]
  },
  {
   "cell_type": "code",
   "execution_count": 5,
   "metadata": {
    "collapsed": false
   },
   "outputs": [],
   "source": [
    "from NeuralNetwork_Cross_Entropy_mini_batch import NeuralNetwork\n",
    "import tensorflow as tf\n",
    "# function that train neural networks with 2 hidden layer\n",
    "def neuralnetwork_2hiddenlayer(sess, h, learning_rate = 0.001, training_epochs=10000, keep_prob=1.0):\n",
    "    # - input\n",
    "    #  sess: the tensorflow session\n",
    "    #  h: the number of neurons in the hidden layers. \n",
    "    #    h[0]: the number of neurons in the first layer\n",
    "    #    h[1]: the number of neurons in the second layer\n",
    "    #  learning_rate: learning rate \n",
    "    #  training_epochs: total number of training iteration\n",
    "    #  keep_prob: keep probability of drop-out\n",
    "    #\n",
    "    # - output\n",
    "    #  nnmodel: neural network model instance\n",
    "    #  y_pred: the predicted probability for stock market increase/decrease for the last split\n",
    "    #  y_test: the test data for the last split\n",
    "    #  test_index: the index for the testing data in the last split\n",
    "    #  accuracy_list: the accuracy for the splits\n",
    "    #  cost_list: the cost or loss for training splits\n",
    "    #  test_cost_list: the cost or loss for testing splits\n",
    "    \n",
    "    i = 1\n",
    "    accuracy_list = []\n",
    "    test_cost_list = []\n",
    "    cost_list = []\n",
    "    for train_index, test_index in tscv.split(features_scaled):\n",
    "        i += 1\n",
    "        X_train, X_test = features_scaled.values[train_index], features_scaled.values[test_index]\n",
    "        y_train, y_test = target_scaled[train_index], target_scaled[test_index]\n",
    "        \n",
    "        nnmodel = NeuralNetwork(sess, X_train.shape[0], X_train.shape[1], n_nodes=h,\\\n",
    "                                actf=[tf.nn.relu, tf.nn.sigmoid], dropout = [True, False],\\\n",
    "                                learning_rate=learning_rate, training_epochs=training_epochs)\n",
    "        # train and test\n",
    "        y_pred, cost, test_cost = nnmodel.train_and_test(X_train, y_train, X_test, y_test, keep_prob)\n",
    "        \n",
    "        # training cost\n",
    "        cost_list.append(cost)\n",
    "        \n",
    "        # testing cost\n",
    "        test_cost_list.append(test_cost)\n",
    "        \n",
    "        # accuracy\n",
    "        correct_prediction = np.equal(np.argmax(y_test,1), np.argmax(y_pred,1))\n",
    "        accuracy = np.mean(correct_prediction.astype(np.float32))\n",
    "        accuracy_list.append(accuracy)\n",
    "        \n",
    "    print('\\nmean test accuracy = ', np.mean(accuracy_list))   \n",
    "    \n",
    "    return (nnmodel, y_pred, y_test, test_index, accuracy_list, cost_list, test_cost_list)"
   ]
  },
  {
   "cell_type": "markdown",
   "metadata": {},
   "source": [
    "### Parameter search for best accuracy for neural networks with 2 hidden layers"
   ]
  },
  {
   "cell_type": "code",
   "execution_count": 6,
   "metadata": {
    "collapsed": false
   },
   "outputs": [
    {
     "name": "stdout",
     "output_type": "stream",
     "text": [
      "learning_rate = 0.001\n",
      "#1st hidden_layer_size = 1#2st hidden_layer_size = 1, keep_prob = 1.0\n",
      "epoch = 2900, cost = 0.675821, test_cost = 0.656405\n",
      "mean test accuracy =  0.55366\n",
      "\n",
      "test accuracy =  0.55366\n",
      "learning_rate = 0.0001\n",
      "#1st hidden_layer_size = 1#2st hidden_layer_size = 1, keep_prob = 1.0\n",
      "epoch = 2900, cost = 0.675820, test_cost = 0.656424\n",
      "mean test accuracy =  0.549065\n",
      "\n",
      "test accuracy =  0.549065\n",
      "learning_rate = 0.001\n",
      "#1st hidden_layer_size = 1#2st hidden_layer_size = 1, keep_prob = 0.5\n",
      "epoch = 2900, cost = 0.685403, test_cost = 0.682257\n",
      "mean test accuracy =  0.536293\n",
      "\n",
      "test accuracy =  0.536293\n",
      "learning_rate = 0.0001\n",
      "#1st hidden_layer_size = 1#2st hidden_layer_size = 1, keep_prob = 0.5\n",
      "epoch = 2900, cost = 0.686659, test_cost = 0.682754\n",
      "mean test accuracy =  0.54447\n",
      "\n",
      "test accuracy =  0.54447\n",
      "learning_rate = 0.001\n",
      "#1st hidden_layer_size = 2#2st hidden_layer_size = 1, keep_prob = 1.0\n",
      "epoch = 2900, cost = 0.671918, test_cost = 0.656516\n",
      "mean test accuracy =  0.553037\n",
      "\n",
      "test accuracy =  0.553037\n",
      "learning_rate = 0.0001\n",
      "#1st hidden_layer_size = 2#2st hidden_layer_size = 1, keep_prob = 1.0\n",
      "epoch = 2900, cost = 0.673214, test_cost = 0.656215\n",
      "mean test accuracy =  0.549922\n",
      "\n",
      "test accuracy =  0.549922\n",
      "learning_rate = 0.001\n",
      "#1st hidden_layer_size = 2#2st hidden_layer_size = 1, keep_prob = 0.5\n",
      "epoch = 2900, cost = 0.683207, test_cost = 0.680837\n",
      "mean test accuracy =  0.556231\n",
      "\n",
      "test accuracy =  0.556231\n",
      "learning_rate = 0.0001\n",
      "#1st hidden_layer_size = 2#2st hidden_layer_size = 1, keep_prob = 0.5\n",
      "epoch = 2900, cost = 0.679484, test_cost = 0.673751\n",
      "mean test accuracy =  0.547975\n",
      "\n",
      "test accuracy =  0.547975\n",
      "learning_rate = 0.001\n",
      "#1st hidden_layer_size = 4#2st hidden_layer_size = 2, keep_prob = 1.0\n",
      "epoch = 2900, cost = 0.657782, test_cost = 0.670066\n",
      "mean test accuracy =  0.544237\n",
      "\n",
      "test accuracy =  0.544237\n",
      "learning_rate = 0.0001\n",
      "#1st hidden_layer_size = 4#2st hidden_layer_size = 2, keep_prob = 1.0\n",
      "epoch = 2900, cost = 0.656930, test_cost = 0.665244\n",
      "mean test accuracy =  0.552103\n",
      "\n",
      "test accuracy =  0.552103\n",
      "learning_rate = 0.001\n",
      "#1st hidden_layer_size = 4#2st hidden_layer_size = 2, keep_prob = 0.5\n",
      "epoch = 2900, cost = 0.673978, test_cost = 0.671503\n",
      "mean test accuracy =  0.556386\n",
      "\n",
      "test accuracy =  0.556386\n",
      "learning_rate = 0.0001\n",
      "#1st hidden_layer_size = 4#2st hidden_layer_size = 2, keep_prob = 0.5\n",
      "epoch = 2900, cost = 0.672443, test_cost = 0.665889\n",
      "mean test accuracy =  0.551012\n",
      "\n",
      "test accuracy =  0.551012\n",
      "learning_rate = 0.001\n",
      "#1st hidden_layer_size = 8#2st hidden_layer_size = 4, keep_prob = 1.0\n",
      "epoch = 2900, cost = 0.635164, test_cost = 0.691194\n",
      "mean test accuracy =  0.55109\n",
      "\n",
      "test accuracy =  0.55109\n",
      "learning_rate = 0.0001\n",
      "#1st hidden_layer_size = 8#2st hidden_layer_size = 4, keep_prob = 1.0\n",
      "epoch = 2900, cost = 0.640517, test_cost = 0.681239\n",
      "mean test accuracy =  0.546417\n",
      "\n",
      "test accuracy =  0.546417\n",
      "learning_rate = 0.001\n",
      "#1st hidden_layer_size = 8#2st hidden_layer_size = 4, keep_prob = 0.5\n",
      "epoch = 2900, cost = 0.666776, test_cost = 0.654316\n",
      "mean test accuracy =  0.553193\n",
      "\n",
      "test accuracy =  0.553193\n",
      "learning_rate = 0.0001\n",
      "#1st hidden_layer_size = 8#2st hidden_layer_size = 4, keep_prob = 0.5\n",
      "epoch = 2900, cost = 0.663076, test_cost = 0.659575\n",
      "mean test accuracy =  0.550545\n",
      "\n",
      "test accuracy =  0.550545\n",
      "learning_rate = 0.001\n",
      "#1st hidden_layer_size = 16#2st hidden_layer_size = 8, keep_prob = 1.0\n",
      "epoch = 2900, cost = 0.603672, test_cost = 0.733594\n",
      "mean test accuracy =  0.53824\n",
      "\n",
      "test accuracy =  0.53824\n",
      "learning_rate = 0.0001\n",
      "#1st hidden_layer_size = 16#2st hidden_layer_size = 8, keep_prob = 1.0\n",
      "epoch = 2900, cost = 0.585550, test_cost = 0.7300163\n",
      "mean test accuracy =  0.53824\n",
      "\n",
      "test accuracy =  0.53824\n",
      "learning_rate = 0.001\n",
      "#1st hidden_layer_size = 16#2st hidden_layer_size = 8, keep_prob = 0.5\n",
      "epoch = 2900, cost = 0.646622, test_cost = 0.671085\n",
      "mean test accuracy =  0.552882\n",
      "\n",
      "test accuracy =  0.552882\n",
      "learning_rate = 0.0001\n",
      "#1st hidden_layer_size = 16#2st hidden_layer_size = 8, keep_prob = 0.5\n",
      "epoch = 2900, cost = 0.647638, test_cost = 0.667432\n",
      "mean test accuracy =  0.544626\n",
      "\n",
      "test accuracy =  0.544626\n",
      "learning_rate = 0.001\n",
      "#1st hidden_layer_size = 32#2st hidden_layer_size = 16, keep_prob = 1.0\n",
      "epoch = 2900, cost = 0.513214, test_cost = 1.043047\n",
      "mean test accuracy =  0.535358\n",
      "\n",
      "test accuracy =  0.535358\n",
      "learning_rate = 0.0001\n",
      "#1st hidden_layer_size = 32#2st hidden_layer_size = 16, keep_prob = 1.0\n",
      "epoch = 2900, cost = 0.473289, test_cost = 1.097792\n",
      "mean test accuracy =  0.533178\n",
      "\n",
      "test accuracy =  0.533178\n",
      "learning_rate = 0.001\n",
      "#1st hidden_layer_size = 32#2st hidden_layer_size = 16, keep_prob = 0.5\n",
      "epoch = 2900, cost = 0.607587, test_cost = 0.687739\n",
      "mean test accuracy =  0.54338\n",
      "\n",
      "test accuracy =  0.54338\n",
      "learning_rate = 0.0001\n",
      "#1st hidden_layer_size = 32#2st hidden_layer_size = 16, keep_prob = 0.5\n",
      "epoch = 2900, cost = 0.607188, test_cost = 0.704672\n",
      "mean test accuracy =  0.543146\n",
      "\n",
      "test accuracy =  0.543146\n"
     ]
    }
   ],
   "source": [
    "accuracy_dict = {}\n",
    "accuracy_list_dict = {}\n",
    "cost_dict = {}\n",
    "test_cost_dict = {}\n",
    "best_prediction = 0\n",
    "\n",
    "# h1n: number of neurons in the first hidden layer\n",
    "# h2n: number of neurons in the second hidden layer\n",
    "# keep_prob: the keep probability for drop-out\n",
    "# learning_rate: the learning rate for the gradient descent algorith\n",
    "\n",
    "for h1n in [1, 2, 4, 8, 16, 32]:\n",
    "    if h1n == 1:\n",
    "        h2n = 1\n",
    "    else:\n",
    "        h2n = h1n // 2\n",
    "    for keep_prob in [1.0, 0.5]:\n",
    "        for learning_rate in [0.001, 0.0001]:\n",
    "            print(\"learning_rate = \" + str(learning_rate))\n",
    "            print(\"#1st hidden_layer_size = \" + str(h1n)\\\n",
    "                + \"#2st hidden_layer_size = \" + str(h2n)\\\n",
    "                + \", keep_prob = \" + str(keep_prob))\n",
    "            index = 'learning_rate_'+str(learning_rate)+'_h1n_'+str(h1n)+'_h2n_'+str(h2n)+'_kp_'+str(keep_prob)\n",
    "            sess = tf.Session()\n",
    "            \n",
    "            #train and test the neural network\n",
    "            (nnmodel, y_pred, y_test, test_index, accuracy_list, cost_list, test_cost_list) = \\\n",
    "                    neuralnetwork_2hiddenlayer(sess, [h1n, h2n], learning_rate = 0.001, training_epochs=3000, keep_prob=keep_prob)\n",
    "            accuracy_dict[index] = np.mean(accuracy_list)\n",
    "            print('\\ntest accuracy = ', accuracy_dict[index])\n",
    "            accuracy_list_dict[index] = accuracy_list\n",
    "            cost_dict[index] = cost_list\n",
    "            test_cost_dict[index] = test_cost_list\n",
    "            \n",
    "            # get the best model\n",
    "            if accuracy_dict[index] > best_prediction:\n",
    "                best_prediction = accuracy_dict[index]\n",
    "                best_index = index\n",
    "                best_nn_estimator = nnmodel\n",
    "                best_pred = y_pred\n",
    "                save_test = y_test\n",
    "                save_test_index = test_index\n",
    "            sess.close()"
   ]
  },
  {
   "cell_type": "code",
   "execution_count": 7,
   "metadata": {
    "collapsed": false
   },
   "outputs": [
    {
     "data": {
      "text/plain": [
       "0.55638623"
      ]
     },
     "execution_count": 7,
     "metadata": {},
     "output_type": "execute_result"
    }
   ],
   "source": [
    "best_prediction"
   ]
  },
  {
   "cell_type": "code",
   "execution_count": 8,
   "metadata": {
    "collapsed": false
   },
   "outputs": [
    {
     "data": {
      "text/plain": [
       "'learning_rate_0.001_h1n_4_h2n_2_kp_0.5'"
      ]
     },
     "execution_count": 8,
     "metadata": {},
     "output_type": "execute_result"
    }
   ],
   "source": [
    "best_index"
   ]
  },
  {
   "cell_type": "markdown",
   "metadata": {},
   "source": [
    "### Plot the ROI for the best model"
   ]
  },
  {
   "cell_type": "code",
   "execution_count": 9,
   "metadata": {
    "collapsed": false
   },
   "outputs": [
    {
     "data": {
      "text/plain": [
       "[<matplotlib.lines.Line2D at 0x7f30709a2630>]"
      ]
     },
     "execution_count": 9,
     "metadata": {},
     "output_type": "execute_result"
    },
    {
     "data": {
      "image/png": "[encoded data removed]",
      "text/plain": [
       "<matplotlib.figure.Figure at 0x7f30709a2208>"
      ]
     },
     "metadata": {},
     "output_type": "display_data"
    }
   ],
   "source": [
    "data_test = datanew.ix[save_test_index]\n",
    "asset = np.zeros(len(data_test))\n",
    "fee=5\n",
    "nstock=100 # number of stocks to trade\n",
    "price = data_test.ix[0]['Open'] * nstock\n",
    "asset[0] = price\n",
    "for i in range(len(data_test)):\n",
    "    if best_pred[i][0] < best_pred[i][1]:\n",
    "        #buy n stocks\n",
    "        price += -data_test.ix[i]['Open'] * nstock + data_test.ix[i]['Close'] * nstock - fee\n",
    "    else:\n",
    "        #sell n stocks\n",
    "        price += data_test.ix[i]['Open'] * nstock - data_test.ix[i]['Close'] * nstock - fee\n",
    "    asset[i] = price\n",
    "start_asset = data_test.ix[0]['Open'] * nstock # start asset: the total price of stocks bought in the beginning\n",
    "ref = start_asset + data_test['Close'] * nstock - data_test.ix[0]['Open']*nstock # buy-hold reference\n",
    "plt.plot(ref / start_asset)\n",
    "plt.plot(pd.DataFrame(asset, index=data_test.index) / start_asset)"
   ]
  },
  {
   "cell_type": "code",
   "execution_count": 12,
   "metadata": {
    "collapsed": false
   },
   "outputs": [
    {
     "data": {
      "text/plain": [
       "3.2167278359690905"
      ]
     },
     "execution_count": 12,
     "metadata": {},
     "output_type": "execute_result"
    }
   ],
   "source": [
    "# return on investment (ROI)\n",
    "asset[-1]/start_asset"
   ]
  }
 ],
 "metadata": {
  "kernelspec": {
   "display_name": "Python 3",
   "language": "python",
   "name": "python3"
  },
  "language_info": {
   "codemirror_mode": {
    "name": "ipython",
    "version": 3
   },
   "file_extension": ".py",
   "mimetype": "text/x-python",
   "name": "python",
   "nbconvert_exporter": "python",
   "pygments_lexer": "ipython3",
   "version": "3.5.3"
  }
 },
 "nbformat": 4,
 "nbformat_minor": 2
}

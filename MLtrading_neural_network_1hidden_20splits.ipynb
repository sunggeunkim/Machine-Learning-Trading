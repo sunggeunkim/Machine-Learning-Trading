{
 "cells": [
  {
   "cell_type": "markdown",
   "metadata": {},
   "source": [
    "# Training neural network with 1 hidden layer/1 neuron and 20 splits\n",
    "### Import packages and get the data"
   ]
  },
  {
   "cell_type": "code",
   "execution_count": 1,
   "metadata": {
    "collapsed": false
   },
   "outputs": [
    {
     "data": {
      "text/html": [
       "<div>\n",
       "<table border=\"1\" class=\"dataframe\">\n",
       "  <thead>\n",
       "    <tr style=\"text-align: right;\">\n",
       "      <th></th>\n",
       "      <th>Open</th>\n",
       "      <th>High</th>\n",
       "      <th>Low</th>\n",
       "      <th>Close</th>\n",
       "      <th>Volume</th>\n",
       "      <th>Adj Close</th>\n",
       "    </tr>\n",
       "  </thead>\n",
       "  <tbody>\n",
       "    <tr>\n",
       "      <th>1962-01-02</th>\n",
       "      <td>71.550003</td>\n",
       "      <td>71.959999</td>\n",
       "      <td>70.709999</td>\n",
       "      <td>70.959999</td>\n",
       "      <td>3120000.0</td>\n",
       "      <td>70.959999</td>\n",
       "    </tr>\n",
       "    <tr>\n",
       "      <th>1962-01-03</th>\n",
       "      <td>70.959999</td>\n",
       "      <td>71.480003</td>\n",
       "      <td>70.379997</td>\n",
       "      <td>71.129997</td>\n",
       "      <td>3590000.0</td>\n",
       "      <td>71.129997</td>\n",
       "    </tr>\n",
       "    <tr>\n",
       "      <th>1962-01-04</th>\n",
       "      <td>71.129997</td>\n",
       "      <td>71.620003</td>\n",
       "      <td>70.449997</td>\n",
       "      <td>70.639999</td>\n",
       "      <td>4450000.0</td>\n",
       "      <td>70.639999</td>\n",
       "    </tr>\n",
       "    <tr>\n",
       "      <th>1962-01-05</th>\n",
       "      <td>70.639999</td>\n",
       "      <td>70.839996</td>\n",
       "      <td>69.349998</td>\n",
       "      <td>69.660004</td>\n",
       "      <td>4630000.0</td>\n",
       "      <td>69.660004</td>\n",
       "    </tr>\n",
       "    <tr>\n",
       "      <th>1962-01-08</th>\n",
       "      <td>69.660004</td>\n",
       "      <td>69.839996</td>\n",
       "      <td>68.169998</td>\n",
       "      <td>69.120003</td>\n",
       "      <td>4620000.0</td>\n",
       "      <td>69.120003</td>\n",
       "    </tr>\n",
       "  </tbody>\n",
       "</table>\n",
       "</div>"
      ],
      "text/plain": [
       "                 Open       High        Low      Close     Volume  Adj Close\n",
       "1962-01-02  71.550003  71.959999  70.709999  70.959999  3120000.0  70.959999\n",
       "1962-01-03  70.959999  71.480003  70.379997  71.129997  3590000.0  71.129997\n",
       "1962-01-04  71.129997  71.620003  70.449997  70.639999  4450000.0  70.639999\n",
       "1962-01-05  70.639999  70.839996  69.349998  69.660004  4630000.0  69.660004\n",
       "1962-01-08  69.660004  69.839996  68.169998  69.120003  4620000.0  69.120003"
      ]
     },
     "execution_count": 1,
     "metadata": {},
     "output_type": "execute_result"
    }
   ],
   "source": [
    "import matplotlib.pyplot as plt\n",
    "import pandas as pd\n",
    "import numpy as np\n",
    "from matplotlib import style\n",
    "import util\n",
    "import get_data, sklearn\n",
    "import datetime as dt\n",
    "import tensorflow as tf\n",
    "%matplotlib inline\n",
    "\n",
    "style.use('ggplot')\n",
    "\n",
    "# Choose start/end date\n",
    "start_date = '1950-1-3'\n",
    "end_date = '2017-4-21'\n",
    "dates = pd.date_range(start_date, end_date)\n",
    "\n",
    "# Choose which stock to look at\n",
    "stock = '^GSPC'\n",
    "\n",
    "data = get_data.get_data_csv(stock, dates, redownload=True)\n",
    "data.dropna(inplace=True)\n",
    "data = util.remove_data_with_same_open_close(data)\n",
    "data.head()"
   ]
  },
  {
   "cell_type": "markdown",
   "metadata": {},
   "source": [
    "### Data Preprocessing"
   ]
  },
  {
   "cell_type": "code",
   "execution_count": 2,
   "metadata": {
    "collapsed": true
   },
   "outputs": [],
   "source": [
    "#calculate features\n",
    "datanew = util.calc_features_new(data, look_back=120, fee=0)\n",
    "datanew.dropna(inplace=True)\n",
    "target = datanew['Change']\n",
    "#adjclose = datanew['Adj Close']\n",
    "features = datanew.drop(['Open', 'High', 'Low', 'Close', 'Volume', 'Adj Close', 'Change'], axis=1)\n",
    "from sklearn import preprocessing\n",
    "features_scaled = pd.DataFrame(preprocessing.scale(features))"
   ]
  },
  {
   "cell_type": "code",
   "execution_count": 3,
   "metadata": {
    "collapsed": true
   },
   "outputs": [],
   "source": [
    "# time series split (20 splits)\n",
    "from sklearn.model_selection import TimeSeriesSplit\n",
    "n_splits = 20\n",
    "tscv = TimeSeriesSplit(n_splits=n_splits)"
   ]
  },
  {
   "cell_type": "code",
   "execution_count": 4,
   "metadata": {
    "collapsed": true
   },
   "outputs": [],
   "source": [
    "# calculate target with one hot encoding\n",
    "target = pd.DataFrame(target)\n",
    "from sklearn.preprocessing import OneHotEncoder\n",
    "one_hot = OneHotEncoder()\n",
    "one_hot.fit(target)\n",
    "target_scaled = one_hot.transform(target).toarray()"
   ]
  },
  {
   "cell_type": "markdown",
   "metadata": {},
   "source": [
    "### Train/test neural network with 1 hidden layer/1 neuron"
   ]
  },
  {
   "cell_type": "code",
   "execution_count": 8,
   "metadata": {
    "collapsed": false
   },
   "outputs": [
    {
     "name": "stdout",
     "output_type": "stream",
     "text": [
      "Split  1\n",
      "epoch = 9900, cost = 0.591876, test_cost = 6.106468\n",
      "Split  2\n",
      "epoch = 9900, cost = 0.645388, test_cost = 0.751619\n",
      "Split  3\n",
      "epoch = 9900, cost = 0.656185, test_cost = 0.697603\n",
      "Split  4\n",
      "epoch = 9900, cost = 0.657164, test_cost = 0.685143\n",
      "Split  5\n",
      "epoch = 9900, cost = 0.654833, test_cost = 0.685131\n",
      "Split  6\n",
      "epoch = 9900, cost = 0.661104, test_cost = 0.686441\n",
      "Split  7\n",
      "epoch = 9900, cost = 0.661559, test_cost = 0.742915\n",
      "Split  8\n",
      "epoch = 9900, cost = 0.669492, test_cost = 0.716232\n",
      "Split  9\n",
      "epoch = 9900, cost = 0.672458, test_cost = 0.714644\n",
      "Split  10\n",
      "epoch = 9900, cost = 0.676483, test_cost = 0.697402\n",
      "Split  11\n",
      "epoch = 9900, cost = 0.678377, test_cost = 0.705417\n",
      "Split  12\n",
      "epoch = 9900, cost = 0.680607, test_cost = 0.689708\n",
      "Split  13\n",
      "epoch = 9900, cost = 0.681191, test_cost = 0.691008\n",
      "Split  14\n",
      "epoch = 9900, cost = 0.680666, test_cost = 0.701471\n",
      "Split  15\n",
      "epoch = 9900, cost = 0.682710, test_cost = 0.701178\n",
      "Split  16\n",
      "epoch = 9900, cost = 0.683926, test_cost = 0.702728\n",
      "Split  17\n",
      "epoch = 9900, cost = 0.684882, test_cost = 0.694137\n",
      "Split  18\n",
      "epoch = 9900, cost = 0.683339, test_cost = 0.663295\n",
      "Split  19\n",
      "epoch = 9900, cost = 0.681324, test_cost = 0.667547\n",
      "Split  20\n",
      "epoch = 9900, cost = 0.681405, test_cost = 0.665748\n",
      "\n",
      "mean test accuracy =  0.540184\n"
     ]
    }
   ],
   "source": [
    "from NeuralNetwork_Cross_Entropy_mini_batch import NeuralNetwork\n",
    "i = 1\n",
    "accuracy_list = []\n",
    "for train_index, test_index in tscv.split(features_scaled):\n",
    "    print(\"Split \", i)\n",
    "    i += 1\n",
    "    X_train, X_test = features_scaled.values[train_index], features_scaled.values[test_index]\n",
    "    y_train, y_test = target_scaled[train_index], target_scaled[test_index]\n",
    "    sess = tf.Session()\n",
    "    h1n = 1\n",
    "    learning_rate = 0.001\n",
    "    nnmodel = NeuralNetwork(sess, X_train.shape[0], X_train.shape[1], n_nodes=[h1n], learning_rate=learning_rate, training_epochs=10000)\n",
    "    y_pred, cost, test_cost = nnmodel.train_and_test(X_train, y_train, X_test, y_test, 1.0)\n",
    "    correct_prediction = np.equal(np.argmax(y_test,1), np.argmax(y_pred,1))\n",
    "    accuracy = np.mean(correct_prediction.astype(np.float32))\n",
    "    accuracy_list.append(accuracy)\n",
    "    print(\"\")\n",
    "print('\\nmean test accuracy = ', np.mean(accuracy_list))"
   ]
  },
  {
   "cell_type": "markdown",
   "metadata": {},
   "source": [
    "### Plot the ROI for the best model"
   ]
  },
  {
   "cell_type": "code",
   "execution_count": 9,
   "metadata": {
    "collapsed": false
   },
   "outputs": [
    {
     "data": {
      "text/plain": [
       "[<matplotlib.lines.Line2D at 0x7f5062869668>]"
      ]
     },
     "execution_count": 9,
     "metadata": {},
     "output_type": "execute_result"
    },
    {
     "data": {
      "image/png": "[encoded data removed]",
      "text/plain": [
       "<matplotlib.figure.Figure at 0x7f508dd38e80>"
      ]
     },
     "metadata": {},
     "output_type": "display_data"
    }
   ],
   "source": [
    "data_test = datanew.ix[test_index]\n",
    "asset = np.zeros(len(data_test))\n",
    "fee=10\n",
    "nstock=100 # number of stocks to trade\n",
    "price = data_test.ix[0]['Open'] * nstock\n",
    "asset[0] = price\n",
    "for i in range(len(data_test)):\n",
    "    if y_pred[i][0] < y_pred[i][1]:\n",
    "        #buy n stocks\n",
    "        price += -data_test.ix[i]['Open'] * nstock + data_test.ix[i]['Close'] * nstock - fee\n",
    "    else:\n",
    "        #sell n stocks\n",
    "        price += data_test.ix[i]['Open'] * nstock - data_test.ix[i]['Close'] * nstock - fee\n",
    "    asset[i] = price\n",
    "start_asset = data_test.ix[0]['Open'] * nstock   # start asset: the total price of stocks bought in the beginning\n",
    "ref = start_asset + data_test['Close'] * nstock - data_test.ix[0]['Open']*nstock # buy-hold reference\n",
    "plt.plot(ref / start_asset)\n",
    "plt.plot(pd.DataFrame(asset, index=data_test.index) / start_asset)"
   ]
  },
  {
   "cell_type": "code",
   "execution_count": 10,
   "metadata": {
    "collapsed": false
   },
   "outputs": [
    {
     "data": {
      "text/plain": [
       "2.3164744618992734"
      ]
     },
     "execution_count": 10,
     "metadata": {},
     "output_type": "execute_result"
    }
   ],
   "source": [
    "# return on investment (ROI)\n",
    "asset[-1]/start_asset"
   ]
  }
 ],
 "metadata": {
  "kernelspec": {
   "display_name": "Python 3",
   "language": "python",
   "name": "python3"
  },
  "language_info": {
   "codemirror_mode": {
    "name": "ipython",
    "version": 3
   },
   "file_extension": ".py",
   "mimetype": "text/x-python",
   "name": "python",
   "nbconvert_exporter": "python",
   "pygments_lexer": "ipython3",
   "version": "3.5.3"
  }
 },
 "nbformat": 4,
 "nbformat_minor": 2
}
